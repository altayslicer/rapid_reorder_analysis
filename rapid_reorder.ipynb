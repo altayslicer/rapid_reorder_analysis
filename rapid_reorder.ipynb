{
 "cells": [
  {
   "cell_type": "code",
   "execution_count": 1,
   "metadata": {},
   "outputs": [],
   "source": [
    "import pandas as pd\n",
    "import json\n",
    "import psycopg2 as p2\n",
    "from datetime import date,datetime,timedelta"
   ]
  },
  {
   "cell_type": "code",
   "execution_count": 2,
   "metadata": {},
   "outputs": [],
   "source": [
    "rapid_reorder_control=pd.read_csv('data\\Rapid_Reorder_Control_export.csv')\n",
    "rapid_reorder_recipients=pd.read_csv('data\\Rapid_Reorder_Recipients_export.csv')"
   ]
  },
  {
   "cell_type": "code",
   "execution_count": 3,
   "metadata": {},
   "outputs": [],
   "source": [
    "def aws_connection(file_name:str=''):\n",
    "    # Connecting to Amazon Redshift DB\n",
    "    # authentication credentials to connect to redshift db from json file\n",
    "    with open('./cred/{fl_name}.json'.format(fl_name = file_name)) as redshift_connection:\n",
    "        aws_creds = json.load(redshift_connection)\n",
    "\n",
    "    # connect to redshift:\n",
    "    con = p2.connect(\n",
    "            dbname= aws_creds['dbname'],\n",
    "            host= aws_creds['host'],\n",
    "            port= aws_creds['port'],\n",
    "            user= aws_creds['user'],\n",
    "            password= aws_creds['password'])\n",
    "    return con"
   ]
  },
  {
   "cell_type": "code",
   "execution_count": 4,
   "metadata": {},
   "outputs": [],
   "source": [
    "def query_aws(file_name: str='', query_path: str='./queries/', query_name: str = ''):\n",
    "    '''Returns DataFrame based on a provided query '''\n",
    "    conn = aws_connection(file_name=file_name)\n",
    "    query = open(query_path + query_name).read()\n",
    "    data = pd.read_sql(sql=query, con=conn)\n",
    "    return data"
   ]
  },
  {
   "cell_type": "markdown",
   "metadata": {},
   "source": [
    "### Reformating the control group, joined with the orders for the control group customers"
   ]
  },
  {
   "cell_type": "code",
   "execution_count": 5,
   "metadata": {},
   "outputs": [],
   "source": [
    "all_orders_from_2019=query_aws(file_name='the_phoenix_connection', query_name='rapid_reorder_eda.sql')"
   ]
  },
  {
   "cell_type": "code",
   "execution_count": 6,
   "metadata": {},
   "outputs": [],
   "source": [
    "controL_group_orders=pd.merge(all_orders_from_2019,rapid_reorder_control,how='inner',left_on='email',right_on='email')\n",
    "controL_group_orders['unsubscribed_from_emails_at']=controL_group_orders['unsubscribed_from_emails_at'].apply(lambda x: x if pd.isna(x) else datetime.strptime(x[:-4],'%Y-%m-%d %H:%M:%S') - timedelta(hours=8))\n",
    "controL_group_orders['opted_in_to_emails_at']=controL_group_orders['opted_in_to_emails_at'].apply(lambda x: x if pd.isna(x) else datetime.strptime(x[:-4],'%Y-%m-%d %H:%M:%S') - timedelta(hours=8))"
   ]
  },
  {
   "cell_type": "code",
   "execution_count": 7,
   "metadata": {},
   "outputs": [],
   "source": [
    "test_group_orders=pd.merge(all_orders_from_2019,rapid_reorder_recipients,how='inner',left_on='email',right_on='email')\n",
    "test_group_orders['unsubscribed_from_emails_at']=test_group_orders['unsubscribed_from_emails_at'].apply(lambda x: x if pd.isna(x) else datetime.strptime(x[:-4],'%Y-%m-%d %H:%M:%S') - timedelta(hours=8))\n",
    "test_group_orders['opted_in_to_emails_at']=test_group_orders['opted_in_to_emails_at'].apply(lambda x: x if pd.isna(x) else datetime.strptime(x[:-4],'%Y-%m-%d %H:%M:%S') - timedelta(hours=8))"
   ]
  },
  {
   "cell_type": "markdown",
   "metadata": {},
   "source": [
    "### Bringing promo codes into the picture"
   ]
  },
  {
   "cell_type": "code",
   "execution_count": 8,
   "metadata": {},
   "outputs": [],
   "source": [
    "promo_codes=query_aws(file_name='the_phoenix_connection', query_name='rapid_reorder_promocodes.sql')"
   ]
  },
  {
   "cell_type": "code",
   "execution_count": 15,
   "metadata": {},
   "outputs": [],
   "source": [
    "control_group_orders_with_promo_codes=pd.merge(controL_group_orders,promo_codes,how='left',on='promo_code_id')\n",
    "test_group_orders_with_promo_codes=pd.merge(test_group_orders,promo_codes,how='left',on='promo_code_id')"
   ]
  },
  {
   "cell_type": "markdown",
   "metadata": {},
   "source": [
    "#### Filtering only the promo codes we want to analyze: \n",
    "###### 'PIZZAGAIN','ROUNDTWO','ONEMORESLICE','STILLHUNGRY','ONEMOREPIE','ONCEAGAIN','NEVERENOUGH','REPEATZZA2','REPEATZZA5','DOUBLEDOWN'"
   ]
  },
  {
   "cell_type": "code",
   "execution_count": 59,
   "metadata": {},
   "outputs": [],
   "source": [
    "control_group_focus_promo_codes = control_group_orders_with_promo_codes[control_group_orders_with_promo_codes['promo_code_tag'].isin(['PIZZAGAIN','ROUNDTWO',\n",
    "                                                                                                                                      'ONEMORESLICE','STILLHUNGRY',\n",
    "                                                                                                                                      'ONEMOREPIE','ONCEAGAIN',\n",
    "                                                                                                                                      'NEVERENOUGH','REPEATZZA2',\n",
    "                                                                                                                                      'REPEATZZA5','DOUBLEDOWN'])]\n",
    "test_group_focus_promo_codes = test_group_orders_with_promo_codes[test_group_orders_with_promo_codes['promo_code_tag'].isin(['PIZZAGAIN','ROUNDTWO','ONEMORESLICE',\n",
    "                                                                                                                             'STILLHUNGRY','ONEMOREPIE','ONCEAGAIN',\n",
    "                                                                                                                             'NEVERENOUGH','REPEATZZA2','REPEATZZA5',\n",
    "                                                                                                                             'DOUBLEDOWN'])]"
   ]
  },
  {
   "cell_type": "code",
   "execution_count": 60,
   "metadata": {},
   "outputs": [],
   "source": [
    "test_group_focus_promo_codes=test_group_focus_promo_codes[['orders_id', 'customer', 'source', 'shop_id', 'date_purchased_pst',\n",
    "       'mypizza_fees', 'cc_fees', 'email', 'cached_total', 'promo_code_id', 'user_id', 'unsubscribed_from_emails_at',\n",
    "       'opted_in_to_emails_at', 'promo_code_tag', 'description', 'department', 'promo_flat_amount']]"
   ]
  },
  {
   "cell_type": "code",
   "execution_count": 143,
   "metadata": {},
   "outputs": [
    {
     "name": "stderr",
     "output_type": "stream",
     "text": [
      "C:\\Users\\asaid\\AppData\\Local\\Continuum\\anaconda3\\lib\\site-packages\\ipykernel_launcher.py:2: SettingWithCopyWarning: \n",
      "A value is trying to be set on a copy of a slice from a DataFrame.\n",
      "Try using .loc[row_indexer,col_indexer] = value instead\n",
      "\n",
      "See the caveats in the documentation: http://pandas.pydata.org/pandas-docs/stable/user_guide/indexing.html#returning-a-view-versus-a-copy\n",
      "  \n"
     ]
    }
   ],
   "source": [
    "test_group_focus_promo_codes['days_between_opt_in_and_order']=test_group_focus_promo_codes['date_purchased_pst'] - test_group_focus_promo_codes['opted_in_to_emails_at']\n",
    "control_group_focus_promo_codes['days_between_opt_in_and_order']=control_group_focus_promo_codes['date_purchased_pst'] - control_group_focus_promo_codes['opted_in_to_emails_at']"
   ]
  },
  {
   "cell_type": "markdown",
   "metadata": {},
   "source": [
    "### Summmary for the data that we have"
   ]
  },
  {
   "cell_type": "code",
   "execution_count": 120,
   "metadata": {},
   "outputs": [
    {
     "data": {
      "text/html": [
       "<div>\n",
       "<style scoped>\n",
       "    .dataframe tbody tr th:only-of-type {\n",
       "        vertical-align: middle;\n",
       "    }\n",
       "\n",
       "    .dataframe tbody tr th {\n",
       "        vertical-align: top;\n",
       "    }\n",
       "\n",
       "    .dataframe thead th {\n",
       "        text-align: right;\n",
       "    }\n",
       "</style>\n",
       "<table border=\"1\" class=\"dataframe\">\n",
       "  <thead>\n",
       "    <tr style=\"text-align: right;\">\n",
       "      <th></th>\n",
       "      <th>control_vs_test</th>\n",
       "      <th>Unique_users</th>\n",
       "      <th>Users_that_opted_in_to_emails</th>\n",
       "      <th>percent_of_user_that_opted_in</th>\n",
       "    </tr>\n",
       "  </thead>\n",
       "  <tbody>\n",
       "    <tr>\n",
       "      <td>0</td>\n",
       "      <td>control</td>\n",
       "      <td>339443</td>\n",
       "      <td>25398</td>\n",
       "      <td>0.074823</td>\n",
       "    </tr>\n",
       "    <tr>\n",
       "      <td>1</td>\n",
       "      <td>test</td>\n",
       "      <td>333551</td>\n",
       "      <td>25442</td>\n",
       "      <td>0.076276</td>\n",
       "    </tr>\n",
       "  </tbody>\n",
       "</table>\n",
       "</div>"
      ],
      "text/plain": [
       "  control_vs_test Unique_users Users_that_opted_in_to_emails  \\\n",
       "0         control       339443                         25398   \n",
       "1            test       333551                         25442   \n",
       "\n",
       "   percent_of_user_that_opted_in  \n",
       "0                       0.074823  \n",
       "1                       0.076276  "
      ]
     },
     "execution_count": 120,
     "metadata": {},
     "output_type": "execute_result"
    }
   ],
   "source": [
    "input_summary=pd.DataFrame(columns=['control_vs_test','Unique_users','Users_that_opted_in_to_emails','percent_of_user_that_opted_in'])\n",
    "inputs=pd.DataFrame(columns=['control_vs_test','Unique_users','Users_that_opted_in_to_emails'])\n",
    "inputs=pd.DataFrame([\n",
    "    ['control', rapid_reorder_control['email'].nunique(), rapid_reorder_control['opted_in_to_emails_at'].notnull().sum(),\n",
    "                      rapid_reorder_control['opted_in_to_emails_at'].notnull().sum()/rapid_reorder_control['email'].nunique()],\n",
    "                     ['test', rapid_reorder_recipients['email'].nunique(), rapid_reorder_recipients['opted_in_to_emails_at'].notnull().sum(),\n",
    "                      rapid_reorder_recipients['opted_in_to_emails_at'].notnull().sum()/rapid_reorder_recipients['email'].nunique()]\n",
    "                    ]\n",
    "    ,columns=['control_vs_test','Unique_users','Users_that_opted_in_to_emails','percent_of_user_that_opted_in'])\n",
    "input_summary = input_summary.append(inputs,ignore_index=True)\n",
    "input_summary"
   ]
  },
  {
   "cell_type": "markdown",
   "metadata": {},
   "source": [
    "### within 4 days after opt-in"
   ]
  },
  {
   "cell_type": "code",
   "execution_count": 125,
   "metadata": {},
   "outputs": [],
   "source": [
    "four_days = timedelta(days=4)\n",
    "zero_days = timedelta(days=0)"
   ]
  },
  {
   "cell_type": "code",
   "execution_count": 144,
   "metadata": {},
   "outputs": [],
   "source": [
    "test_group_focus_promo_codes_within_4_days_after_opt_in = test_group_focus_promo_codes[(test_group_focus_promo_codes['days_between_opt_in_and_order'] < four_days)\n",
    "                             &\n",
    "                            (test_group_focus_promo_codes['days_between_opt_in_and_order'] > zero_days)]\n",
    "\n",
    "control_group_focus_promo_codes_within_4_days_after_opt_in = control_group_focus_promo_codes[(control_group_focus_promo_codes['days_between_opt_in_and_order'] < four_days)\n",
    "                             &\n",
    "                            (control_group_focus_promo_codes['days_between_opt_in_and_order'] > zero_days)]"
   ]
  },
  {
   "cell_type": "code",
   "execution_count": 146,
   "metadata": {},
   "outputs": [
    {
     "data": {
      "text/plain": [
       "promo_code_tag\n",
       "DOUBLEDOWN      10\n",
       "NEVERENOUGH     13\n",
       "ONCEAGAIN        3\n",
       "ONEMOREPIE      14\n",
       "ONEMORESLICE    15\n",
       "PIZZAGAIN       15\n",
       "REPEATZZA2      10\n",
       "REPEATZZA5      26\n",
       "ROUNDTWO        18\n",
       "STILLHUNGRY     14\n",
       "Name: customer, dtype: int64"
      ]
     },
     "execution_count": 146,
     "metadata": {},
     "output_type": "execute_result"
    }
   ],
   "source": [
    "test_group_focus_promo_codes_within_4_days_after_opt_in.groupby('promo_code_tag').customer.nunique()"
   ]
  },
  {
   "cell_type": "code",
   "execution_count": 147,
   "metadata": {},
   "outputs": [
    {
     "data": {
      "text/plain": [
       "promo_code_tag\n",
       "REPEATZZA5    1\n",
       "Name: customer, dtype: int64"
      ]
     },
     "execution_count": 147,
     "metadata": {},
     "output_type": "execute_result"
    }
   ],
   "source": [
    "control_group_focus_promo_codes_within_4_days_after_opt_in.groupby('promo_code_tag').customer.nunique()"
   ]
  },
  {
   "cell_type": "markdown",
   "metadata": {},
   "source": [
    "### after 4 days since opt-in"
   ]
  },
  {
   "cell_type": "code",
   "execution_count": 148,
   "metadata": {},
   "outputs": [],
   "source": [
    "test_group_focus_promo_codes_after_4_days_after_opt_in = test_group_focus_promo_codes[(test_group_focus_promo_codes['days_between_opt_in_and_order'] > four_days)]\n",
    "\n",
    "control_group_focus_promo_codes_after_4_days_after_opt_in = control_group_focus_promo_codes[(control_group_focus_promo_codes['days_between_opt_in_and_order'] > four_days)]"
   ]
  },
  {
   "cell_type": "code",
   "execution_count": 149,
   "metadata": {},
   "outputs": [
    {
     "data": {
      "text/plain": [
       "promo_code_tag\n",
       "DOUBLEDOWN      56\n",
       "NEVERENOUGH     50\n",
       "ONCEAGAIN       50\n",
       "ONEMOREPIE      57\n",
       "ONEMORESLICE    63\n",
       "PIZZAGAIN       64\n",
       "REPEATZZA2      48\n",
       "REPEATZZA5      50\n",
       "ROUNDTWO        48\n",
       "STILLHUNGRY     41\n",
       "Name: customer, dtype: int64"
      ]
     },
     "execution_count": 149,
     "metadata": {},
     "output_type": "execute_result"
    }
   ],
   "source": [
    "test_group_focus_promo_codes_after_4_days_after_opt_in.groupby('promo_code_tag').customer.nunique()"
   ]
  },
  {
   "cell_type": "code",
   "execution_count": 150,
   "metadata": {},
   "outputs": [
    {
     "data": {
      "text/plain": [
       "promo_code_tag\n",
       "DOUBLEDOWN    1\n",
       "REPEATZZA2    1\n",
       "REPEATZZA5    1\n",
       "Name: customer, dtype: int64"
      ]
     },
     "execution_count": 150,
     "metadata": {},
     "output_type": "execute_result"
    }
   ],
   "source": [
    "control_group_focus_promo_codes_after_4_days_after_opt_in.groupby('promo_code_tag').customer.nunique()"
   ]
  },
  {
   "cell_type": "markdown",
   "metadata": {},
   "source": [
    "### before opt-in"
   ]
  },
  {
   "cell_type": "code",
   "execution_count": 152,
   "metadata": {},
   "outputs": [],
   "source": [
    "test_group_focus_promo_codes_before_opt_in = test_group_focus_promo_codes[(test_group_focus_promo_codes['days_between_opt_in_and_order'] < zero_days)]\n",
    "\n",
    "control_group_focus_promo_codes_before_opt_in = control_group_focus_promo_codes[(control_group_focus_promo_codes['days_between_opt_in_and_order'] < zero_days)]"
   ]
  },
  {
   "cell_type": "code",
   "execution_count": 153,
   "metadata": {},
   "outputs": [
    {
     "data": {
      "text/plain": [
       "promo_code_tag\n",
       "DOUBLEDOWN      106\n",
       "NEVERENOUGH     148\n",
       "ONCEAGAIN       102\n",
       "ONEMOREPIE      121\n",
       "ONEMORESLICE    130\n",
       "PIZZAGAIN       146\n",
       "REPEATZZA2      120\n",
       "REPEATZZA5      166\n",
       "ROUNDTWO        112\n",
       "STILLHUNGRY     111\n",
       "Name: customer, dtype: int64"
      ]
     },
     "execution_count": 153,
     "metadata": {},
     "output_type": "execute_result"
    }
   ],
   "source": [
    "test_group_focus_promo_codes_before_opt_in.groupby('promo_code_tag').customer.nunique()"
   ]
  },
  {
   "cell_type": "code",
   "execution_count": 154,
   "metadata": {},
   "outputs": [
    {
     "data": {
      "text/plain": [
       "promo_code_tag\n",
       "NEVERENOUGH     5\n",
       "ONCEAGAIN       1\n",
       "ONEMORESLICE    2\n",
       "REPEATZZA2      2\n",
       "REPEATZZA5      4\n",
       "ROUNDTWO        2\n",
       "STILLHUNGRY     2\n",
       "Name: customer, dtype: int64"
      ]
     },
     "execution_count": 154,
     "metadata": {},
     "output_type": "execute_result"
    }
   ],
   "source": [
    "control_group_focus_promo_codes_before_opt_in.groupby('promo_code_tag').customer.nunique()"
   ]
  },
  {
   "cell_type": "code",
   "execution_count": null,
   "metadata": {},
   "outputs": [],
   "source": []
  }
 ],
 "metadata": {
  "kernelspec": {
   "display_name": "Python 3",
   "language": "python",
   "name": "python3"
  },
  "language_info": {
   "codemirror_mode": {
    "name": "ipython",
    "version": 3
   },
   "file_extension": ".py",
   "mimetype": "text/x-python",
   "name": "python",
   "nbconvert_exporter": "python",
   "pygments_lexer": "ipython3",
   "version": "3.7.4"
  }
 },
 "nbformat": 4,
 "nbformat_minor": 4
}
